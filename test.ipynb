{
 "cells": [
  {
   "cell_type": "code",
   "execution_count": null,
   "metadata": {},
   "outputs": [],
   "source": [
    "import json\n",
    "import requests\n",
    "\n",
    "def fetch_weather_data():\n",
    "    # WeatherAPI.com endpoint and API key\n",
    "    api_key = '88a5bc844ef14a278f1162851243108'\n",
    "    city = 'Amsterdam'\n",
    "    url = f'http://api.weatherapi.com/v1/current.json?key={api_key}&q={city}'\n",
    "\n",
    "    try:\n",
    "        # Fetch weather data\n",
    "        response = requests.get(url)\n",
    "        response.raise_for_status()  # Raise an error for bad responses\n",
    "\n",
    "        # Parse JSON response\n",
    "        weather_data = response.json()\n",
    "\n",
    "        # Extract required fields\n",
    "        temperature = weather_data['current']['temp_c']\n",
    "        humidity = weather_data['current']['humidity']\n",
    "        wind_speed = weather_data['current']['wind_kph']\n",
    "        condition = weather_data['current']['condition']['text']\n",
    "        uv_index = weather_data['current']['uv']\n",
    "\n",
    "        # Print extracted fields to verify\n",
    "        print(f\"Temperature (C): {temperature}\")\n",
    "        print(f\"Humidity (%): {humidity}\")\n",
    "        print(f\"Wind Speed (kph): {wind_speed}\")\n",
    "        print(f\"Condition: {condition}\")\n",
    "        print(f\"UV Index: {uv_index}\")\n",
    "\n",
    "    except requests.exceptions.RequestException as e:\n",
    "        print(f\"Error fetching data from WeatherAPI: {e}\")\n",
    "\n",
    "if __name__ == \"__main__\":\n",
    "    fetch_weather_data()\n"
   ]
  }
 ],
 "metadata": {
  "language_info": {
   "name": "python"
  }
 },
 "nbformat": 4,
 "nbformat_minor": 2
}
